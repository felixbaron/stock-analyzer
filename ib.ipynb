{
 "cells": [
  {
   "cell_type": "code",
   "execution_count": null,
   "id": "c0432faf-92d4-45d4-80e1-ab22f861cbdf",
   "metadata": {},
   "outputs": [],
   "source": [
    "# Fetch fundamentals\n",
    "import datetime\n",
    "from ib_insync import *\n",
    "util.startLoop()\n",
    "\n",
    "# Connect to API gateway\n",
    "ib = IB()\n",
    "ib.connect('127.0.0.1', 4001, clientId=7)\n",
    "contract = Stock('AAPL', 'SMART', 'USD')\n",
    "# See for data types: https://ib-insync.readthedocs.io/_modules/ib_insync/ib.html?highlight=delayed#\n",
    "# Or here: https://interactivebrokers.github.io/tws-api/market_data_type.html\n",
    "ib.reqMarketDataType(4)\n",
    "#ticker = ib.reqMktData(contract, '258')\n",
    "ticker = ib.reqFundamentalData(contract, 'ReportsFinSummary')\n",
    "ib.sleep(5)\n",
    "print(ticker)\n",
    "ib.disconnect()"
   ]
  },
  {
   "cell_type": "code",
   "execution_count": null,
   "id": "8c3a19f3-0b4f-4872-ad27-876e15be3fac",
   "metadata": {
    "tags": []
   },
   "outputs": [],
   "source": [
    "# Docs (online) for ib_insync: https://ib-insync.readthedocs.io/api.html\n",
    "# Docs (PDF) for ib_insync: https://readthedocs.org/projects/ib-insync/downloads/pdf/latest/\n",
    "# Docs for TWS API: https://interactivebrokers.github.io/tws-api/fundamentals.html\n",
    "# Intro using TWS API in Jupyter: https://www.tradersinsight.news/ibkr-quant-news/an-introduction-to-tws-api-with-jupyter-notebooks/\n",
    "# Tutorials for the TWS API: https://tradersacademy.online/glossary-terms/python-api\n",
    "# Some useful FAQ on TWS: https://dimon.ca/dmitrys-tws-api-faq/#h.m6jpiax1ql1p\n",
    "# Find NASDAQ symbols: https://www.nasdaq.com/market-activity/stocks/screener\n",
    "\n",
    "# S&P Index: https://www.spglobal.com/spdji/en/indices/equity/sp-500-us-revenue-exposure-index/#overview"
   ]
  }
 ],
 "metadata": {
  "kernelspec": {
   "display_name": "Python 3 (ipykernel)",
   "language": "python",
   "name": "python3"
  },
  "language_info": {
   "codemirror_mode": {
    "name": "ipython",
    "version": 3
   },
   "file_extension": ".py",
   "mimetype": "text/x-python",
   "name": "python",
   "nbconvert_exporter": "python",
   "pygments_lexer": "ipython3",
   "version": "3.8.9"
  }
 },
 "nbformat": 4,
 "nbformat_minor": 5
}
