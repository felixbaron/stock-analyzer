{
 "cells": [
  {
   "cell_type": "code",
   "execution_count": null,
   "id": "c0432faf-92d4-45d4-80e1-ab22f861cbdf",
   "metadata": {},
   "outputs": [],
   "source": [
    "# Fetch fundamentals\n",
    "import datetime\n",
    "from ib_insync import *\n",
    "util.startLoop()\n",
    "\n",
    "# Connect to API gateway\n",
    "ib = IB()\n",
    "ib.connect('127.0.0.1', 4001, clientId=7)\n",
    "contract = Stock('AAPL', 'SMART', 'USD')\n",
    "\n",
    "# See for data types: https://ib-insync.readthedocs.io/_modules/ib_insync/ib.html?highlight=delayed#\n",
    "# Or here: https://interactivebrokers.github.io/tws-api/market_data_type.html\n",
    "ib.reqMarketDataType(4)\n",
    "ticker = ib.reqMktData(contract, '258')\n",
    "ticker = ib.reqFundamentalData(contract, 'ReportFinStatements')\n",
    "ib.sleep(5)\n",
    "print(ticker)\n",
    "\n",
    "ib.disconnect()"
   ]
  },
  {
   "cell_type": "code",
   "execution_count": null,
   "id": "eb6e948d-6588-4e0f-b884-07f50f7b755a",
   "metadata": {},
   "outputs": [],
   "source": [
    "# Market scanner\n",
    "import datetime\n",
    "from ib_insync import *\n",
    "util.startLoop()\n",
    "ib = IB()\n",
    "ib.connect('127.0.0.1', 4001, clientId=11)\n",
    "\n",
    "sub = ScannerSubscription(\n",
    "    instrument='STK', \n",
    "    locationCode='STK.US', \n",
    "    scanCode='LOW_PRICE_2_BOOK_RATIO')\n",
    "\n",
    "\n",
    "tagValues = [\n",
    "    TagValue('marketCapAbove1e6', 50000)\n",
    "    ]\n",
    "\n",
    "scanData = ib.reqScannerData(sub, [], tagValues)\n",
    "print(f'{len(scanData)} results, first one:')"
   ]
  },
  {
   "cell_type": "code",
   "execution_count": null,
   "id": "5d71a542-7766-4bf2-8855-20af3ca5b3f2",
   "metadata": {},
   "outputs": [],
   "source": [
    "# Print market scanner\n",
    "print(scanData)\n",
    "#ib.cancelScannerSubscription(scanData)\n",
    "#ib.disconnect()"
   ]
  },
  {
   "cell_type": "code",
   "execution_count": null,
   "id": "c5bb9424-ad28-4f75-9506-ec6bc7ab2abc",
   "metadata": {},
   "outputs": [],
   "source": [
    "# Show scanner parameters\n",
    "import datetime\n",
    "from ib_insync import *\n",
    "util.startLoop()\n",
    "ib = IB()\n",
    "\n",
    "ib.connect('127.0.0.1', 4001, clientId=10)\n",
    "xml=ib.reqScannerParameters()\n",
    "ib.sleep(5)\n",
    "\n",
    "# Save parameters\n",
    "#path = 'scanner_parameters.xml'\n",
    "#with open(path, 'w') as f:\n",
    "#    f.write(xml)\n",
    "\n",
    "# Parse XML\n",
    "import xml.etree.ElementTree as ET\n",
    "tree = ET.fromstring(xml)\n",
    "\n",
    "# find all tags that are available for filtering\n",
    "tags = [elem.text for elem in tree.findall('.//AbstractField/displayName')]\n",
    "print(len(tags), 'tags:')\n",
    "print(tags)\n",
    "\n",
    "ib.disconnect()"
   ]
  },
  {
   "cell_type": "code",
   "execution_count": null,
   "id": "178283c3-86e9-4811-ba3a-939ed999ff92",
   "metadata": {},
   "outputs": [],
   "source": [
    "## Investment idea: solid enterprise\n",
    "# Revenue growth\n",
    "\n",
    "# Low debt/equity ratio\n",
    "\n",
    "# High cash flow\n",
    "\n",
    "# Compare with industry peers"
   ]
  },
  {
   "cell_type": "code",
   "execution_count": null,
   "id": "8c3a19f3-0b4f-4872-ad27-876e15be3fac",
   "metadata": {
    "tags": []
   },
   "outputs": [],
   "source": [
    "### TWS API\n",
    "# Docs (online) for ib_insync: https://ib-insync.readthedocs.io/api.html\n",
    "# Docs (PDF) for ib_insync: https://readthedocs.org/projects/ib-insync/downloads/pdf/latest/\n",
    "# Docs for TWS API: https://interactivebrokers.github.io/tws-api/fundamentals.html\n",
    "# Intro using TWS API in Jupyter: https://www.tradersinsight.news/ibkr-quant-news/an-introduction-to-tws-api-with-jupyter-notebooks/\n",
    "# Tutorials for the TWS API: https://tradersacademy.online/glossary-terms/python-api\n",
    "# Some useful FAQ on TWS: https://dimon.ca/dmitrys-tws-api-faq/#h.m6jpiax1ql1p\n",
    "# Find NASDAQ symbols: https://www.nasdaq.com/market-activity/stocks/screener\n",
    "# Definition of fundamentail ratios: https://api.lynx.academy/FundamentalRatios\n",
    "\n",
    "### Stock research\n",
    "# S&P Index: https://www.spglobal.com/spdji/en/indices/equity/sp-500-us-revenue-exposure-index/#overview"
   ]
  }
 ],
 "metadata": {
  "kernelspec": {
   "display_name": "Python 3 (ipykernel)",
   "language": "python",
   "name": "python3"
  },
  "language_info": {
   "codemirror_mode": {
    "name": "ipython",
    "version": 3
   },
   "file_extension": ".py",
   "mimetype": "text/x-python",
   "name": "python",
   "nbconvert_exporter": "python",
   "pygments_lexer": "ipython3",
   "version": "3.8.9"
  }
 },
 "nbformat": 4,
 "nbformat_minor": 5
}
